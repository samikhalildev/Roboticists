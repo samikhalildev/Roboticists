{
 "cells": [
  {
   "cell_type": "code",
   "execution_count": 1,
   "metadata": {},
   "outputs": [],
   "source": [
    "# Connect robot\n",
    "\n",
    "import qi\n",
    "from naoqi import ALProxy\n",
    "\n",
    "import time\n",
    "import numpy as np\n",
    "import matplotlib.pyplot as plt\n",
    "import cv2\n",
    "\n",
    "session = qi.Session()\n",
    "robot_ip = '192.168.1.31:9559'\n",
    "virtual_robot = 'localhost:34353'\n",
    "\n",
    "session.connect('tcp://' + virtual_robot)"
   ]
  },
  {
   "cell_type": "code",
   "execution_count": 6,
   "metadata": {},
   "outputs": [],
   "source": [
    "# Use API services\n",
    "\n",
    "tts = session.service(\"ALTextToSpeech\")\n",
    "nav = session.service(\"ALNavigation\")\n",
    "video_proxy = session.service(\"ALVideoDevice\")\n"
   ]
  },
  {
   "cell_type": "code",
   "execution_count": 7,
   "metadata": {},
   "outputs": [],
   "source": [
    "# Moving\n",
    "\n",
    "#motion = session.service(\"ALMotion\")\n",
    "#motion = ALProxy(\"ALMotion\", 'localhost', 34353)\n",
    "#moving = motion.post.moveTo(2.0, 0.0, 0.0)\n",
    "#tts.say(\"Lets explore!\")\n",
    "#motion.wait(moving, 0)\n",
    "#tts.say(\"I have finished exploring!\")\n"
   ]
  },
  {
   "cell_type": "code",
   "execution_count": 8,
   "metadata": {},
   "outputs": [],
   "source": [
    "# Begin interaction\n",
    "\n",
    "tts.say(\"Hey there, how can I help you today?\")\n"
   ]
  },
  {
   "cell_type": "code",
   "execution_count": 3,
   "metadata": {},
   "outputs": [],
   "source": [
    "def get_frame(proxy, camera_idx=0, resolution_idx=1, colorspace_idx=11, fps=20):\n",
    "    if not proxy.isCameraOpen(camera_idx):\n",
    "        proxy.openCamera(camera_idx)\n",
    "\n",
    "    if not proxy.isCameraStarted(camera_idx):\n",
    "        video_proxy.startCamera(camera_idx)\n",
    "    \n",
    "    if resolution_idx in [3, 4]:\n",
    "        # max fps for these resolutions\n",
    "        fps = 1\n",
    "    \n",
    "    sub = proxy.subscribeCamera(\n",
    "        \"get_frame_sub\",\n",
    "        camera_idx,\n",
    "        resolution_idx,\n",
    "        colorspace_idx,\n",
    "        fps\n",
    "    )\n",
    "    \n",
    "    np_image = None\n",
    "    \n",
    "    try:\n",
    "        timeout = 3\n",
    "        start_time = time.time()\n",
    "        result = None\n",
    "        while time.time() - start_time < timeout and result is None:\n",
    "            result = proxy.getImageRemote(sub)\n",
    "\n",
    "        if result:\n",
    "            buffer_image = result[6]\n",
    "            \n",
    "            if result[2] == 3:\n",
    "                img_shape = (result[1], result[0], result[2])\n",
    "                im_format = np.uint8\n",
    "            else:\n",
    "                img_shape = (result[1], result[0])\n",
    "                im_format = np.uint16\n",
    "            \n",
    "            temp = np.frombuffer(buffer_image, im_format)\n",
    "            np_image = np.reshape(temp, img_shape)\n",
    "    except Exception as e:\n",
    "        print(e)\n",
    "    finally:\n",
    "        proxy.unsubscribe(sub)\n",
    "    \n",
    "    return np_image\n",
    "    "
   ]
  },
  {
   "cell_type": "code",
   "execution_count": 4,
   "metadata": {},
   "outputs": [
    {
     "data": {
      "image/png": "[encoded data removed]",
      "text/plain": [
       "<matplotlib.figure.Figure at 0x7f52004f3290>"
      ]
     },
     "metadata": {
      "needs_background": "light"
     },
     "output_type": "display_data"
    }
   ],
   "source": [
    "# current image from robot camera\n",
    "current_frame = get_frame(video_proxy)\n",
    "plt.imshow(current_frame)\n",
    "plt.show()"
   ]
  },
  {
   "cell_type": "code",
   "execution_count": null,
   "metadata": {},
   "outputs": [],
   "source": []
  },
  {
   "cell_type": "code",
   "execution_count": null,
   "metadata": {},
   "outputs": [],
   "source": []
  }
 ],
 "metadata": {
  "kernelspec": {
   "display_name": "Python 2",
   "language": "python",
   "name": "python2"
  },
  "language_info": {
   "codemirror_mode": {
    "name": "ipython",
    "version": 2
   },
   "file_extension": ".py",
   "mimetype": "text/x-python",
   "name": "python",
   "nbconvert_exporter": "python",
   "pygments_lexer": "ipython2",
   "version": "2.7.15+"
  }
 },
 "nbformat": 4,
 "nbformat_minor": 2
}
